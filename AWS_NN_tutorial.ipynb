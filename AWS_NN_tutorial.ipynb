{
 "cells": [
  {
   "cell_type": "markdown",
   "metadata": {},
   "source": [
    "In this notebook, we will generate a toy data set and train a simple neural network to predict the binary classification of each data point. "
   ]
  },
  {
   "cell_type": "markdown",
   "metadata": {},
   "source": [
    "### Let's import some useful libraries"
   ]
  },
  {
   "cell_type": "code",
   "execution_count": null,
   "metadata": {
    "collapsed": true
   },
   "outputs": [],
   "source": [
    "import numpy as np\n",
    "import matplotlib.pyplot as plt\n",
    "%matplotlib inline\n",
    "from mpl_toolkits.mplot3d import Axes3D\n",
    "import theano\n",
    "# By convention, the tensor submodule is loaded as T\n",
    "import theano.tensor as T\n",
    "# The below script for training a simple neural net on\n",
    "# toy data is built on Theano\n",
    "import simple_nn\n",
    "from simple_nn import MLP"
   ]
  },
  {
   "cell_type": "markdown",
   "metadata": {},
   "source": [
    "### Generate some toy data\n",
    "Two Gaussian-distributed clusters in 3-D space"
   ]
  },
  {
   "cell_type": "code",
   "execution_count": null,
   "metadata": {
    "collapsed": true
   },
   "outputs": [],
   "source": [
    "np.random.seed(0)\n",
    "N = 1000\n",
    "y = np.random.randint(0, 1+1, size=N)\n",
    "# Mean of each cluster\n",
    "mu = .7\n",
    "means = np.array([[-mu, mu],[-mu, mu],[-mu, mu]])\n",
    "# Covariance (in X and Y direction) of each cluster\n",
    "covariances = np.random.random_sample((3, 2)) + 1\n",
    "# Assign training inputs and labels to variables X and y\n",
    "X = np.vstack([np.random.randn(N)*covariances[0, y] + means[0, y],\n",
    "               np.random.randn(N)*covariances[1, y] + means[1, y],\n",
    "               np.random.randn(N)*covariances[2, y] + means[2, y]]).astype(theano.config.floatX)\n",
    "y = y.astype(theano.config.floatX)"
   ]
  },
  {
   "cell_type": "markdown",
   "metadata": {},
   "source": [
    "#### Plot the data"
   ]
  },
  {
   "cell_type": "code",
   "execution_count": null,
   "metadata": {},
   "outputs": [],
   "source": [
    "fig = plt.figure(figsize=(10,8))\n",
    "ax = fig.add_subplot(111,projection='3d')\n",
    "ax.set_xlabel('x', fontsize=14)\n",
    "ax.set_ylabel('y', fontsize=14)\n",
    "ax.set_zlabel('z', fontsize=14)\n",
    "colors = [0 if i==0 else 'y' for i in y]\n",
    "for x0, x1, x2, c in zip(X[0,:],X[1,:],X[2,:],colors):\n",
    "    ax.scatter3D(x0, x1, x2, c=c, s=40, edgecolor='k',marker='o', zdir='z')"
   ]
  },
  {
   "cell_type": "markdown",
   "metadata": {},
   "source": [
    "#### Let's look at a 2-D representation to get a better feel for how the two classes overlap"
   ]
  },
  {
   "cell_type": "code",
   "execution_count": null,
   "metadata": {},
   "outputs": [],
   "source": [
    "fig = plt.figure()\n",
    "plt.xlabel('x', fontsize=14)\n",
    "plt.ylabel('y', fontsize=14)\n",
    "for x0, x1, c in zip(X[0,:],X[1,:],colors):\n",
    "    plt.scatter(x0, x1, c=c, s=40)"
   ]
  },
  {
   "cell_type": "markdown",
   "metadata": {},
   "source": [
    "### Build a simple neural network with 1 hidden layer\n",
    "First specify layer sizes and instantiate a multi-layer perceptron class object (\"multi-layer perceptron\" may not be an accurate description of the network we are constructing but we won't get bogged down in those details in this tutorial!)"
   ]
  },
  {
   "cell_type": "code",
   "execution_count": null,
   "metadata": {},
   "outputs": [],
   "source": [
    "# First, set the size of each layer (and the number of layers)\n",
    "# Input layer size is training data dimensionality (3)\n",
    "# Output size is 1 since this is a binary classification task\n",
    "# Finally, let the hidden layer be twice the size of the input.\n",
    "# If we wanted more layers, we could just add another layer size to this list.\n",
    "layer_sizes = [X.shape[0], 6, 1]\n",
    "# Set initial parameter values\n",
    "W_init = []\n",
    "b_init = []\n",
    "activations = []\n",
    "for n_input, n_output in zip(layer_sizes[:-1], layer_sizes[1:]):\n",
    "    # Implement small weight initialization\n",
    "    W_init.append(np.random.randn(n_output, n_input)/np.sqrt(n_input))\n",
    "    # Set initial biases to 1\n",
    "    b_init.append(np.ones(n_output))\n",
    "    # We'll use sigmoid activation for all layers\n",
    "    activations.append(T.nnet.sigmoid)\n",
    "# Create an instance of the MLP class\n",
    "mlp = MLP(W_init, b_init, activations)"
   ]
  },
  {
   "cell_type": "markdown",
   "metadata": {},
   "source": [
    "#### Create symbolic variables for input and target and specify learning rate"
   ]
  },
  {
   "cell_type": "code",
   "execution_count": null,
   "metadata": {
    "collapsed": true
   },
   "outputs": [],
   "source": [
    "# Create Theano variables for the MLP input\n",
    "mlp_input = T.matrix('mlp_input')\n",
    "# ... and the desired output\n",
    "mlp_target = T.vector('mlp_target')\n",
    "# Set the learning rate\n",
    "learning_rate = 0.01"
   ]
  },
  {
   "cell_type": "markdown",
   "metadata": {},
   "source": [
    "#### Create functions for computing cost, training the network and computing output for a given input\n",
    "Note: `cross_entropy` is a class method of `MLP`"
   ]
  },
  {
   "cell_type": "code",
   "execution_count": null,
   "metadata": {},
   "outputs": [],
   "source": [
    "# Create a function for computing the cost of the network given an input\n",
    "cost = mlp.cross_entropy(mlp_input, mlp_target)\n",
    "# Create a theano function for training the network\n",
    "train = theano.function([mlp_input, mlp_target], cost,\n",
    "                        updates=simple_nn.gradient_updates(cost, mlp.params, learning_rate))\n",
    "# Create a theano function for computing the network output given some input\n",
    "mlp_output = theano.function([mlp_input], mlp.output(mlp_input))"
   ]
  },
  {
   "cell_type": "markdown",
   "metadata": {},
   "source": [
    "#### Specify mini-batch size and number of epochs to train for"
   ]
  },
  {
   "cell_type": "code",
   "execution_count": null,
   "metadata": {
    "collapsed": true
   },
   "outputs": [],
   "source": [
    "mb_size = 100\n",
    "n_epochs = 400"
   ]
  },
  {
   "cell_type": "markdown",
   "metadata": {},
   "source": [
    "#### Vstack the training data and labels so that when we shuffle the data, labels stick with their corresponding inputs"
   ]
  },
  {
   "cell_type": "code",
   "execution_count": null,
   "metadata": {
    "collapsed": true
   },
   "outputs": [],
   "source": [
    "training_data = np.vstack((X,y))"
   ]
  },
  {
   "cell_type": "markdown",
   "metadata": {},
   "source": [
    "#### Train the network using stochastic gradient descent, monitoring training cost and training accuracy at each epoch\n",
    "Typically we would hold out a test set to see how well the trained model generalizes to new data but since this is a toy example for the purpose of illustration, we won't bother measuring test cost/accuracy."
   ]
  },
  {
   "cell_type": "code",
   "execution_count": null,
   "metadata": {
    "scrolled": false
   },
   "outputs": [],
   "source": [
    "# Keep track of epochs\n",
    "epoch = 0\n",
    "n = X.shape[1]\n",
    "training_cost = []\n",
    "training_accuracy = []\n",
    "mb_costs = []\n",
    "for j in range(n_epochs):\n",
    "    np.random.shuffle(training_data.T)\n",
    "    # Split training set into mini-batches and then separate inputs from labels:\n",
    "    mini_batches = [training_data[:,k:k+mb_size] for k in range(0,n,mb_size)]\n",
    "    for mini_batch in mini_batches:\n",
    "        # Train network parameters on the mini-batch\n",
    "        inputs, labels = mini_batch[:3,:], mini_batch[3,:]\n",
    "        mb_cost = train(inputs, labels)\n",
    "        mb_costs.append(mb_cost)\n",
    "    # Get the current cost taken across the training set\n",
    "    current_cost = mlp.cross_entropy(X, y).eval()\n",
    "    training_cost.append(current_cost)\n",
    "    # We can compute the accuracy by thresholding the output and computing \n",
    "    # the proportion of points whose class match the ground truth class.\n",
    "    current_output = mlp.output(X).eval()\n",
    "    accuracy = np.mean((current_output > .5) == y)\n",
    "    training_accuracy.append(accuracy)\n",
    "\n",
    "    if epoch % 10 == 0:\n",
    "        print('Cost: {:.3f}, Accuracy: {:.3f}'.format(float(current_cost), accuracy))\n",
    "    \n",
    "    epoch += 1"
   ]
  },
  {
   "cell_type": "markdown",
   "metadata": {},
   "source": [
    "#### How did training accuracy and training cost change over epochs?"
   ]
  },
  {
   "cell_type": "code",
   "execution_count": null,
   "metadata": {},
   "outputs": [],
   "source": [
    "plt.figure(figsize=(12,10))\n",
    "plt.plot(range(len(training_accuracy)),training_accuracy, label='Training Accuracy')\n",
    "plt.plot(range(len(training_cost)), training_cost, label='Training Cost')\n",
    "plt.xlabel('Epoch', fontsize=14)\n",
    "plt.legend(loc=3)\n",
    "plt.grid()"
   ]
  },
  {
   "cell_type": "markdown",
   "metadata": {},
   "source": [
    "#### Let's plot another 2-D representation of the data using the star marker to show data points whose class is correctly predicted by our model and the circle marker to show incorrect predictions"
   ]
  },
  {
   "cell_type": "code",
   "execution_count": null,
   "metadata": {},
   "outputs": [],
   "source": [
    "correct_predictions = ((current_output>.5)==y).astype(theano.config.floatX)[0]\n",
    "markers = ['*' if i==1. else 'o' for i in correct_predictions]\n",
    "colors = [0 if i==0 else 'y' for i in y]\n",
    "plt.figure(figsize=(10,10))\n",
    "plt.xlabel('x', fontsize=14)\n",
    "plt.ylabel('z', fontsize=14)\n",
    "plt.grid()\n",
    "fig.add_subplot()\n",
    "for x0, x1, c, m in zip(X[0,:], X[2,:], colors, markers):\n",
    "    plt.scatter(x0, x1, c=c, marker=m, s=60)"
   ]
  }
 ],
 "metadata": {
  "kernelspec": {
   "display_name": "Python 2",
   "language": "python",
   "name": "python2"
  },
  "language_info": {
   "codemirror_mode": {
    "name": "ipython",
    "version": 2
   },
   "file_extension": ".py",
   "mimetype": "text/x-python",
   "name": "python",
   "nbconvert_exporter": "python",
   "pygments_lexer": "ipython2",
   "version": "2.7.12"
  }
 },
 "nbformat": 4,
 "nbformat_minor": 1
}
